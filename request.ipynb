{
 "cells": [
  {
   "cell_type": "markdown",
   "metadata": {},
   "source": [
    "#Let's do with API ."
   ]
  },
  {
   "cell_type": "code",
   "execution_count": 1,
   "metadata": {},
   "outputs": [],
   "source": [
    "import requests"
   ]
  },
  {
   "cell_type": "code",
   "execution_count": 2,
   "metadata": {},
   "outputs": [],
   "source": [
    "from requests.models import Response"
   ]
  },
  {
   "cell_type": "code",
   "execution_count": 4,
   "metadata": {},
   "outputs": [],
   "source": [
    "from requests.structures import CaseInsensitiveDict"
   ]
  },
  {
   "cell_type": "code",
   "execution_count": null,
   "metadata": {},
   "outputs": [],
   "source": [
    "from requests.models import Response"
   ]
  },
  {
   "cell_type": "code",
   "execution_count": 5,
   "metadata": {},
   "outputs": [
    {
     "data": {
      "text/plain": [
       "'Response'"
      ]
     },
     "metadata": {},
     "output_type": "display_data"
    },
    {
     "data": {
      "text/plain": [
       "<Response [200]>"
      ]
     },
     "metadata": {},
     "output_type": "display_data"
    },
    {
     "name": "stdout",
     "output_type": "stream",
     "text": [
      "Status_code 200\n",
      "Json_obj {'status': 'OK'} <class 'dict'>\n",
      "response.text {\"status\":\"OK\"} <class 'str'>\n",
      "response.headers {'Date': 'Mon, 15 Jan 2024 14:56:39 GMT', 'Content-Type': 'application/json; charset=utf-8', 'Content-Length': '15', 'Connection': 'keep-alive', 'x-powered-by': 'Express', 'etag': 'W/\"f-v/Y1JusChTxrQUzPtNAKycooOTA\"'}\n",
      "200 {'status': 'OK'} {\"status\":\"OK\"} {'Date': 'Mon, 15 Jan 2024 14:56:39 GMT', 'Content-Type': 'application/json; charset=utf-8', 'Content-Length': '15', 'Connection': 'keep-alive', 'x-powered-by': 'Express', 'etag': 'W/\"f-v/Y1JusChTxrQUzPtNAKycooOTA\"'}\n"
     ]
    }
   ],
   "source": [
    "response: Response = requests.get('https://simple-books-api.glitch.me/status')\n",
    "display(\"Response\",response)\n",
    "\n",
    "status_code : int = response.status_code\n",
    "print(\"Status_code\",status_code)\n",
    "\n",
    "json_obj : dict = response.json()\n",
    "print(\"Json_obj\",json_obj, type(json_obj))\n",
    "\n",
    "txt: str = response.text\n",
    "print(\"response.text\",txt,type(txt))\n",
    "\n",
    "headers: CaseInsensitiveDict = response.headers\n",
    "print(\"response.headers\",headers)\n",
    "\n",
    "print(response.status_code, response.json(), response.text, response.headers)"
   ]
  },
  {
   "cell_type": "code",
   "execution_count": null,
   "metadata": {},
   "outputs": [],
   "source": []
  }
 ],
 "metadata": {
  "kernelspec": {
   "display_name": "py311",
   "language": "python",
   "name": "python3"
  },
  "language_info": {
   "codemirror_mode": {
    "name": "ipython",
    "version": 3
   },
   "file_extension": ".py",
   "mimetype": "text/x-python",
   "name": "python",
   "nbconvert_exporter": "python",
   "pygments_lexer": "ipython3",
   "version": "3.11.4"
  }
 },
 "nbformat": 4,
 "nbformat_minor": 2
}
